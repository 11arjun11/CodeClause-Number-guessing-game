{
  "cells": [
    {
      "cell_type": "markdown",
      "metadata": {
        "id": "view-in-github",
        "colab_type": "text"
      },
      "source": [
        "<a href=\"https://colab.research.google.com/github/11arjun11/CodeClause-Number-guessing-game/blob/main/Number_guessing_game.ipynb\" target=\"_parent\"><img src=\"https://colab.research.google.com/assets/colab-badge.svg\" alt=\"Open In Colab\"/></a>"
      ]
    },
    {
      "cell_type": "code",
      "execution_count": null,
      "metadata": {
        "colab": {
          "background_save": true,
          "base_uri": "https://localhost:8080/"
        },
        "id": "pjoB_Loln4da",
        "outputId": "736fc9be-4173-4441-a7f4-74cc0db51f17"
      },
      "outputs": [
        {
          "name": "stdout",
          "output_type": "stream",
          "text": [
            "Welcome to the Number Guessing Game!\n",
            "I'm thinking of a number between 1 and 100.\n",
            "Your guess is too high. Try again!\n",
            "Your guess is too high. Try again!\n",
            "Your guess is too high. Try again!\n",
            "Your guess is too high. Try again!\n"
          ]
        }
      ],
      "source": [
        "import random\n",
        "\n",
        "# Generate a random number between 1 and 100\n",
        "number_to_guess = random.randint(1, 100)\n",
        "\n",
        "# Initialize the number of attempts\n",
        "attempts = 0\n",
        "\n",
        "print(\"Welcome to the Number Guessing Game!\")\n",
        "print(\"I'm thinking of a number between 1 and 100.\")\n",
        "\n",
        "# Loop until the user guesses the number\n",
        "while True:\n",
        "    # Get the user's guess\n",
        "    user_guess = int(input(\"Enter your guess: \"))\n",
        "\n",
        "    # Increment the attempt count\n",
        "    attempts += 1\n",
        "\n",
        "    # Check if the guess is too low\n",
        "    if user_guess < number_to_guess:\n",
        "        print(\"Your guess is too low. Try again!\")\n",
        "\n",
        "    # Check if the guess is too high\n",
        "    elif user_guess > number_to_guess:\n",
        "        print(\"Your guess is too high. Try again!\")\n",
        "\n",
        "    # If the guess is correct\n",
        "    else:\n",
        "        print(f\"Congratulations! You guessed the number in {attempts} attempts.\")\n",
        "        break  # Exit the loop when the correct number is guessed\n"
      ]
    }
  ],
  "metadata": {
    "colab": {
      "provenance": [],
      "authorship_tag": "ABX9TyOkbpOJBJKzOT0oCB4rAV2d",
      "include_colab_link": true
    },
    "kernelspec": {
      "display_name": "Python 3",
      "name": "python3"
    },
    "language_info": {
      "name": "python"
    }
  },
  "nbformat": 4,
  "nbformat_minor": 0
}